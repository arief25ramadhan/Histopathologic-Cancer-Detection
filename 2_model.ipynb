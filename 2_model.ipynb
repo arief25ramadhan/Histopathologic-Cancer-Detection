{
 "cells": [
  {
   "cell_type": "markdown",
   "metadata": {},
   "source": [
    "# Histopathologic Cancer Detection"
   ]
  },
  {
   "cell_type": "markdown",
   "metadata": {},
   "source": [
    "## Check GPU availability"
   ]
  },
  {
   "cell_type": "code",
   "execution_count": 3,
   "metadata": {},
   "outputs": [
    {
     "name": "stdout",
     "output_type": "stream",
     "text": [
      "TensorFlow Version: 2.1.0\n",
      "Default GPU Device: /device:GPU:0\n",
      "Num GPUs Available:  1\n"
     ]
    }
   ],
   "source": [
    "# To use GPU, follow this tutorial: https://www.youtube.com/watch?v=tPq6NIboLSc&t=1s\n",
    "\n",
    "from distutils.version import LooseVersion\n",
    "import warnings\n",
    "import tensorflow as tf\n",
    "\n",
    "# Check TensorFlow Version\n",
    "assert LooseVersion(tf.__version__) >= LooseVersion('1.0'), 'Please use TensorFlow version 1.0 or newer.  You are using {}'.format(tf.__version__)\n",
    "print('TensorFlow Version: {}'.format(tf.__version__))\n",
    "\n",
    "# Check for a GPU\n",
    "if not tf.test.gpu_device_name():\n",
    "    warnings.warn('No GPU found. Please ensure you have installed TensorFlow correctly')\n",
    "else:\n",
    "    print('Default GPU Device: {}'.format(tf.test.gpu_device_name()))\n",
    "    \n",
    "print(\"Num GPUs Available: \", len(tf.config.experimental.list_physical_devices('GPU')))\n"
   ]
  },
  {
   "cell_type": "markdown",
   "metadata": {},
   "source": [
    "## Libraries"
   ]
  },
  {
   "cell_type": "code",
   "execution_count": 4,
   "metadata": {},
   "outputs": [],
   "source": [
    "import tensorflow as tf\n",
    "from tensorflow import keras\n",
    "import numpy as np\n",
    "import matplotlib.pyplot as plt\n",
    "import os\n",
    "import cv2\n",
    "import pandas as pd \n",
    "from tqdm import tqdm\n",
    "from skimage.io import imread\n",
    "from glob import glob\n",
    "\n",
    "from sklearn.metrics import roc_curve, auc, roc_auc_score, confusion_matrix\n",
    "from sklearn.model_selection import train_test_split\n",
    "\n",
    "from keras.datasets import cifar10\n",
    "from keras.preprocessing.image import ImageDataGenerator\n",
    "from keras.models import Sequential, load_model\n",
    "from keras.layers import Dense, Dropout, Activation, Flatten\n",
    "from keras.layers import Conv2D, MaxPooling2D\n",
    "from keras.preprocessing.image import ImageDataGenerator\n",
    "\n",
    "#VGG16\n",
    "from keras.applications.vgg16 import VGG16\n",
    "from keras.preprocessing import image\n",
    "from keras.applications.vgg16 import preprocess_input\n",
    "\n",
    "#from tensorflow.keras.layers import Conv2D, Flatten, MaxPooling2D, Dropout, BatchNormalization\n",
    "from keras.preprocessing.image import ImageDataGenerator\n",
    "from keras.applications.nasnet import NASNetMobile\n",
    "from keras.applications.xception import Xception\n",
    "from keras.utils.vis_utils import plot_model\n",
    "from keras.layers import Dropout, Flatten, Dense, GlobalAveragePooling2D, Average, Input, Concatenate, GlobalMaxPooling2D\n",
    "from keras.models import Model\n",
    "from keras.callbacks import CSVLogger, ModelCheckpoint, EarlyStopping\n",
    "from keras.optimizers import Adam"
   ]
  },
  {
   "cell_type": "markdown",
   "metadata": {},
   "source": [
    "## Data Directory"
   ]
  },
  {
   "cell_type": "code",
   "execution_count": 5,
   "metadata": {},
   "outputs": [],
   "source": [
    "input_dir = '/Users/ACER/Desktop/hpc_dataset/'\n",
    "cropped_train_dir = input_dir + 'cropped_train/'\n",
    "cropped_val_dir = input_dir + 'cropped_val/'"
   ]
  },
  {
   "cell_type": "markdown",
   "metadata": {},
   "source": [
    "## Data normalization and generation"
   ]
  },
  {
   "cell_type": "code",
   "execution_count": 8,
   "metadata": {},
   "outputs": [],
   "source": [
    "# Data normalization\n",
    "training_data_generator = ImageDataGenerator(rescale=1./255)"
   ]
  },
  {
   "cell_type": "code",
   "execution_count": 9,
   "metadata": {},
   "outputs": [],
   "source": [
    "# Data normalization\n",
    "val_data_generator = ImageDataGenerator(rescale=1./255)"
   ]
  },
  {
   "cell_type": "code",
   "execution_count": 10,
   "metadata": {},
   "outputs": [
    {
     "name": "stdout",
     "output_type": "stream",
     "text": [
      "Found 176020 images belonging to 2 classes.\n"
     ]
    }
   ],
   "source": [
    "# Data generation\n",
    "training_generator = training_data_generator.flow_from_directory(cropped_train_dir,\n",
    "                                                                 target_size=(48,48),\n",
    "                                                                 batch_size=32,\n",
    "                                                                 class_mode='binary')"
   ]
  },
  {
   "cell_type": "code",
   "execution_count": 11,
   "metadata": {},
   "outputs": [
    {
     "name": "stdout",
     "output_type": "stream",
     "text": [
      "Found 44005 images belonging to 2 classes.\n"
     ]
    }
   ],
   "source": [
    "validation_generator = val_data_generator.flow_from_directory(cropped_val_dir,\n",
    "                                                              target_size=(48,48),\n",
    "                                                              batch_size=32,\n",
    "                                                              class_mode='binary')"
   ]
  },
  {
   "cell_type": "markdown",
   "metadata": {},
   "source": [
    "## Model Building and Training"
   ]
  },
  {
   "cell_type": "code",
   "execution_count": 12,
   "metadata": {},
   "outputs": [],
   "source": [
    "def VGG16_model():\n",
    "    base_model = VGG16(include_top=False,\n",
    "                       input_shape = (48,48,3),\n",
    "                       weights = 'imagenet')\n",
    "    \n",
    "    model = Sequential()\n",
    "    model.add(base_model)\n",
    "    \n",
    "    model.add(Flatten())\n",
    "    model.add(Dropout(0.5))\n",
    "    model.add(Dense(512,activation='relu'))\n",
    "    model.add(Dropout(0.5))\n",
    "    model.add(Dense(1,activation='sigmoid'))\n",
    "    #model.layers[0].trainable=False\n",
    "    model.summary()\n",
    "    model.compile(loss='binary_crossentropy', \n",
    "                  optimizer=Adam(lr=0.0001, decay=0.00001),\n",
    "                  metrics=['acc'] )\n",
    "    return model"
   ]
  },
  {
   "cell_type": "code",
   "execution_count": 13,
   "metadata": {},
   "outputs": [
    {
     "name": "stdout",
     "output_type": "stream",
     "text": [
      "Model: \"sequential_2\"\n",
      "_________________________________________________________________\n",
      "Layer (type)                 Output Shape              Param #   \n",
      "=================================================================\n",
      "vgg16 (Model)                (None, 1, 1, 512)         14714688  \n",
      "_________________________________________________________________\n",
      "flatten_2 (Flatten)          (None, 512)               0         \n",
      "_________________________________________________________________\n",
      "dropout_3 (Dropout)          (None, 512)               0         \n",
      "_________________________________________________________________\n",
      "dense_3 (Dense)              (None, 512)               262656    \n",
      "_________________________________________________________________\n",
      "dropout_4 (Dropout)          (None, 512)               0         \n",
      "_________________________________________________________________\n",
      "dense_4 (Dense)              (None, 1)                 513       \n",
      "=================================================================\n",
      "Total params: 14,977,857\n",
      "Trainable params: 14,977,857\n",
      "Non-trainable params: 0\n",
      "_________________________________________________________________\n"
     ]
    }
   ],
   "source": [
    "model = VGG16_model()"
   ]
  },
  {
   "cell_type": "code",
   "execution_count": 14,
   "metadata": {},
   "outputs": [
    {
     "name": "stdout",
     "output_type": "stream",
     "text": [
      "Epoch 1/10\n",
      "5501/5501 [==============================] - 1988s 361ms/step - loss: 0.3676 - acc: 0.8428 - val_loss: 0.2222 - val_acc: 0.8755\n",
      "\n",
      "Epoch 00001: val_acc improved from -inf to 0.87549, saving model to models/model_v28.h5\n",
      "Epoch 2/10\n",
      "5501/5501 [==============================] - 2005s 364ms/step - loss: 0.2739 - acc: 0.8906 - val_loss: 0.1939 - val_acc: 0.8965\n",
      "\n",
      "Epoch 00002: val_acc improved from 0.87549 to 0.89647, saving model to models/model_v28.h5\n",
      "Epoch 3/10\n",
      "5501/5501 [==============================] - 2170s 394ms/step - loss: 0.2346 - acc: 0.9075 - val_loss: 0.1995 - val_acc: 0.9031\n",
      "\n",
      "Epoch 00003: val_acc improved from 0.89647 to 0.90306, saving model to models/model_v28.h5\n",
      "Epoch 4/10\n",
      "5501/5501 [==============================] - 1966s 357ms/step - loss: 0.1984 - acc: 0.9235 - val_loss: 0.3441 - val_acc: 0.9026\n",
      "\n",
      "Epoch 00004: val_acc did not improve from 0.90306\n",
      "Epoch 5/10\n",
      "5501/5501 [==============================] - 1922s 349ms/step - loss: 0.1593 - acc: 0.9397 - val_loss: 0.0245 - val_acc: 0.9079\n",
      "\n",
      "Epoch 00005: val_acc improved from 0.90306 to 0.90794, saving model to models/model_v28.h5\n",
      "Epoch 6/10\n",
      "5501/5501 [==============================] - 2004s 364ms/step - loss: 0.1221 - acc: 0.9551 - val_loss: 0.3481 - val_acc: 0.8931\n",
      "\n",
      "Epoch 00006: val_acc did not improve from 0.90794\n",
      "Epoch 7/10\n",
      "5501/5501 [==============================] - 2038s 371ms/step - loss: 0.0866 - acc: 0.9692 - val_loss: 0.0722 - val_acc: 0.9094\n",
      "\n",
      "Epoch 00007: val_acc improved from 0.90794 to 0.90944, saving model to models/model_v28.h5\n",
      "Epoch 8/10\n",
      "5501/5501 [==============================] - 1968s 358ms/step - loss: 0.0623 - acc: 0.9787 - val_loss: 0.0225 - val_acc: 0.9116\n",
      "\n",
      "Epoch 00008: val_acc improved from 0.90944 to 0.91160, saving model to models/model_v28.h5\n",
      "Epoch 9/10\n",
      "5501/5501 [==============================] - 1817s 330ms/step - loss: 0.0464 - acc: 0.9843 - val_loss: 0.0046 - val_acc: 0.9067\n",
      "\n",
      "Epoch 00009: val_acc did not improve from 0.91160\n",
      "Epoch 10/10\n",
      "5501/5501 [==============================] - 2008s 365ms/step - loss: 0.0391 - acc: 0.9864 - val_loss: 0.0030 - val_acc: 0.9075\n",
      "\n",
      "Epoch 00010: val_acc did not improve from 0.91160\n"
     ]
    }
   ],
   "source": [
    "model_file = \"models/model_v28.h5\"\n",
    "\n",
    "checkpoint = ModelCheckpoint(model_file, monitor='val_acc',\n",
    "                             verbose=1, save_best_only=True,\n",
    "                             mode='max', save_weights_only=False, \n",
    "                             period=1)\n",
    "\n",
    "earlystop = EarlyStopping(monitor='val_loss', min_delta=0.001,\n",
    "                          patience=10, verbose=1, \n",
    "                          mode='auto')\n",
    "\n",
    "history = model.fit_generator(training_generator,\n",
    "                              steps_per_epoch=len(training_generator), \n",
    "                              validation_data=validation_generator,\n",
    "                              validation_steps=len(validation_generator),\n",
    "                              epochs=10,\n",
    "                              verbose=1,\n",
    "                              callbacks=[checkpoint])"
   ]
  },
  {
   "cell_type": "markdown",
   "metadata": {},
   "source": [
    "## Training Plot"
   ]
  },
  {
   "cell_type": "code",
   "execution_count": 15,
   "metadata": {},
   "outputs": [
    {
     "data": {
      "text/plain": [
       "Text(0, 0.5, 'loss')"
      ]
     },
     "execution_count": 15,
     "metadata": {},
     "output_type": "execute_result"
    },
    {
     "data": {
      "image/png": "[encoded data removed]",
      "text/plain": [
       "<Figure size 432x288 with 1 Axes>"
      ]
     },
     "metadata": {
      "needs_background": "light"
     },
     "output_type": "display_data"
    }
   ],
   "source": [
    "# Plot Training and Validation Loss\n",
    "plt.plot(history.history['loss'], color='blue', label=\"training_loss\")\n",
    "plt.plot(history.history['val_loss'], color='red', label=\"validation_loss\")\n",
    "plt.legend(loc='best')\n",
    "plt.title('Training Loss and Validation Loss')\n",
    "plt.xlabel('epoch')\n",
    "plt.ylabel('loss')"
   ]
  },
  {
   "cell_type": "code",
   "execution_count": 16,
   "metadata": {},
   "outputs": [
    {
     "data": {
      "text/plain": [
       "Text(0, 0.5, 'accuracy')"
      ]
     },
     "execution_count": 16,
     "metadata": {},
     "output_type": "execute_result"
    },
    {
     "data": {
      "image/png": "[encoded data removed]",
      "text/plain": [
       "<Figure size 432x288 with 1 Axes>"
      ]
     },
     "metadata": {
      "needs_background": "light"
     },
     "output_type": "display_data"
    }
   ],
   "source": [
    "# Plot Training and Validation Accuracy\n",
    "plt.plot(history.history['acc'], color='blue', label=\"training_accuracy\")\n",
    "plt.plot(history.history['val_acc'], color='red',label=\"validation_accuracy\")\n",
    "plt.legend(loc='best')\n",
    "plt.title('Training Accuracy and Validation Accuracy')\n",
    "plt.xlabel('epoch')\n",
    "plt.ylabel('accuracy')"
   ]
  },
  {
   "cell_type": "code",
   "execution_count": 21,
   "metadata": {},
   "outputs": [
    {
     "name": "stdout",
     "output_type": "stream",
     "text": [
      "Found 44005 images belonging to 2 classes.\n",
      "1376/1376 [==============================] - 99s 72ms/step\n"
     ]
    },
    {
     "data": {
      "image/png": "[encoded data removed]",
      "text/plain": [
       "<Figure size 432x288 with 1 Axes>"
      ]
     },
     "metadata": {
      "needs_background": "light"
     },
     "output_type": "display_data"
    }
   ],
   "source": [
    "# ROC testing plot\n",
    "model = load_model(model_file)\n",
    "\n",
    "roc_validation_generator = ImageDataGenerator(rescale=1./255).flow_from_directory(cropped_val_dir,\n",
    "                                                                                  target_size=(48,48),\n",
    "                                                                                  batch_size=32,\n",
    "                                                                                  class_mode='binary',\n",
    "                                                                                  shuffle=False)\n",
    "\n",
    "predictions = model.predict_generator(roc_validation_generator, steps=len(roc_validation_generator), verbose=1)\n",
    "false_positive_rate, true_positive_rate, threshold = roc_curve(roc_validation_generator.classes, predictions)\n",
    "area_under_curve = auc(false_positive_rate, true_positive_rate)\n",
    "\n",
    "plt.plot([0, 1], [0, 1], 'k--')\n",
    "plt.plot(false_positive_rate, true_positive_rate, label='AUC = {:.3f}'.format(area_under_curve))\n",
    "plt.xlabel('False positive rate')\n",
    "plt.ylabel('True positive rate')\n",
    "plt.title('ROC curve')\n",
    "plt.legend(loc='best')\n",
    "#plt.savefig(ROC_PLOT_FILE, bbox_inches='tight')\n",
    "plt.show()"
   ]
  },
  {
   "cell_type": "code",
   "execution_count": 22,
   "metadata": {},
   "outputs": [
    {
     "name": "stdout",
     "output_type": "stream",
     "text": [
      "Validation Precision: 0.9051188193597118\n",
      "Validation Recall: 0.8734510793383796\n",
      "Validation Accuracy: 0.9116009544369958\n"
     ]
    }
   ],
   "source": [
    "# Calculate Validation Precision, Recall, and Accuracy \n",
    "\n",
    "predictions_list = predictions.tolist()\n",
    "predict = []\n",
    "\n",
    "for i in predictions_list:\n",
    "    for j in i:\n",
    "        j = round(j)\n",
    "        predict.append(j)\n",
    "\n",
    "\n",
    "tn, fp, fn, tp = confusion_matrix(validation_generator.classes, predict).ravel()\n",
    "\n",
    "precision = tp/(tp+fp)\n",
    "recall = tp/(tp+fn)\n",
    "accuracy = (tp+tn)/(tp+fp+tn+fn)\n",
    "\n",
    "print(\"Validation Precision: \" + str(precision))\n",
    "print(\"Validation Recall: \" + str(recall))\n",
    "print(\"Validation Accuracy: \" + str(accuracy))"
   ]
  },
  {
   "cell_type": "markdown",
   "metadata": {},
   "source": [
    "## Generate test prediction CSV file "
   ]
  },
  {
   "cell_type": "code",
   "execution_count": 23,
   "metadata": {
    "scrolled": true
   },
   "outputs": [
    {
     "name": "stderr",
     "output_type": "stream",
     "text": [
      "100%|██████████████████████████████████████████| 58/58 [42:18<00:00, 43.77s/it]\n"
     ]
    }
   ],
   "source": [
    "model_file = \"models/model_v28.h5\"\n",
    "model = load_model(model_file)\n",
    "\n",
    "from skimage.io import imread\n",
    "from glob import glob\n",
    "from tqdm import tqdm\n",
    "\n",
    "testing_batch_size = 1000\n",
    "\n",
    "testing_files = glob(os.path.join('/Users/ACER/Desktop/hpc_dataset/cropped_test/','*.tif'))\n",
    "submission = pd.DataFrame()\n",
    "for index in tqdm(range(0, len(testing_files), testing_batch_size)):\n",
    "    data_frame = pd.DataFrame({'path': testing_files[index:index+testing_batch_size]})\n",
    "    data_frame['id'] = data_frame.path.map(lambda x: x.split('/')[5].split(\".\")[0])\n",
    "    data_frame['image'] = data_frame['path'].map(imread)\n",
    "    images = np.stack(data_frame.image, axis=0)\n",
    "    predicted_labels = [model.predict(np.expand_dims(image/255.0, axis=0))[0][0] for image in images]\n",
    "    predictions = np.array(predicted_labels)\n",
    "    data_frame['label'] = predictions\n",
    "    submission = pd.concat([submission, data_frame[[\"id\", \"label\"]]])\n",
    "submission.to_csv(\"submission_ar_28.csv\", index=False, header=True)"
   ]
  },
  {
   "cell_type": "markdown",
   "metadata": {},
   "source": [
    "To see the test accuracy, submit the CSV file to this link:\n",
    "https://www.kaggle.com/c/histopathologic-cancer-detection/submit"
   ]
  }
 ],
 "metadata": {
  "kernelspec": {
   "display_name": "gputest",
   "language": "python",
   "name": "gputest"
  },
  "language_info": {
   "codemirror_mode": {
    "name": "ipython",
    "version": 3
   },
   "file_extension": ".py",
   "mimetype": "text/x-python",
   "name": "python",
   "nbconvert_exporter": "python",
   "pygments_lexer": "ipython3",
   "version": "3.7.7"
  }
 },
 "nbformat": 4,
 "nbformat_minor": 4
}
