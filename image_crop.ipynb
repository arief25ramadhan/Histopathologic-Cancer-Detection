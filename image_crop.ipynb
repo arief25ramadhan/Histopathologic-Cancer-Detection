{
 "cells": [
  {
   "cell_type": "markdown",
   "metadata": {},
   "source": [
    "# Image Crop"
   ]
  },
  {
   "cell_type": "code",
   "execution_count": 13,
   "metadata": {},
   "outputs": [],
   "source": [
    "import os\n",
    "import cv2\n",
    "import pandas as pd\n",
    "import matplotlib.pyplot as plt"
   ]
  },
  {
   "cell_type": "code",
   "execution_count": 19,
   "metadata": {},
   "outputs": [],
   "source": [
    "input_dir = 'C:/Users/hp/Desktop/schletter_hcd/images'\n",
    "output_dir = 'C:/Users/hp/Desktop/schletter_hcd/cropped_images/'\n",
    "#input_dir ='/Users/ACER/Desktop/hpc_dataset/'\n",
    "#visual_dir = input_dir + 'train/1'\n",
    "#train_dir = input_dir + 'train/'\n",
    "#val_dir = input_dir + 'val/'"
   ]
  },
  {
   "cell_type": "code",
   "execution_count": 15,
   "metadata": {},
   "outputs": [],
   "source": [
    "def crop_img(img):\n",
    "    \n",
    "    start_crop = (ORIGINAL_SIZE - CROP_SIZE) // 2\n",
    "    end_crop = start_crop + CROP_SIZE\n",
    "    \n",
    "    return img[start_crop:end_crop, start_crop:end_crop]"
   ]
  },
  {
   "cell_type": "code",
   "execution_count": 16,
   "metadata": {},
   "outputs": [],
   "source": [
    "ORIGINAL_SIZE = 1024\n",
    "CROP_SIZE = 512"
   ]
  },
  {
   "cell_type": "code",
   "execution_count": 20,
   "metadata": {},
   "outputs": [],
   "source": [
    "for img in os.listdir(input_dir):\n",
    "    img_array = cv2.imread(os.path.join(input_dir,img))\n",
    "    img_array = crop_img(img_array)\n",
    "    cv2.imwrite(output_dir + img, img_array)"
   ]
  },
  {
   "cell_type": "code",
   "execution_count": 12,
   "metadata": {},
   "outputs": [
    {
     "name": "stdout",
     "output_type": "stream",
     "text": [
      "full.jpg\n"
     ]
    }
   ],
   "source": [
    "print(img)"
   ]
  },
  {
   "cell_type": "code",
   "execution_count": null,
   "metadata": {},
   "outputs": [],
   "source": []
  }
 ],
 "metadata": {
  "kernelspec": {
   "display_name": "Python 3",
   "language": "python",
   "name": "python3"
  },
  "language_info": {
   "codemirror_mode": {
    "name": "ipython",
    "version": 3
   },
   "file_extension": ".py",
   "mimetype": "text/x-python",
   "name": "python",
   "nbconvert_exporter": "python",
   "pygments_lexer": "ipython3",
   "version": "3.7.3"
  }
 },
 "nbformat": 4,
 "nbformat_minor": 2
}
