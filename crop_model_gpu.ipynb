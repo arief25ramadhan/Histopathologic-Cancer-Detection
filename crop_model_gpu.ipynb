{
 "cells": [
  {
   "cell_type": "markdown",
   "metadata": {},
   "source": [
    "# Histopathologic Cancer Detection"
   ]
  },
  {
   "cell_type": "code",
   "execution_count": 1,
   "metadata": {},
   "outputs": [
    {
     "name": "stdout",
     "output_type": "stream",
     "text": [
      "TensorFlow Version: 2.1.0\n",
      "Default GPU Device: /device:GPU:0\n",
      "Num GPUs Available:  1\n"
     ]
    }
   ],
   "source": [
    "from distutils.version import LooseVersion\n",
    "import warnings\n",
    "import tensorflow as tf\n",
    "\n",
    "# Check TensorFlow Version\n",
    "assert LooseVersion(tf.__version__) >= LooseVersion('1.0'), 'Please use TensorFlow version 1.0 or newer.  You are using {}'.format(tf.__version__)\n",
    "print('TensorFlow Version: {}'.format(tf.__version__))\n",
    "\n",
    "# Check for a GPU\n",
    "if not tf.test.gpu_device_name():\n",
    "    warnings.warn('No GPU found. Please ensure you have installed TensorFlow correctly')\n",
    "else:\n",
    "    print('Default GPU Device: {}'.format(tf.test.gpu_device_name()))\n",
    "    \n",
    "print(\"Num GPUs Available: \", len(tf.config.experimental.list_physical_devices('GPU')))\n"
   ]
  },
  {
   "cell_type": "markdown",
   "metadata": {},
   "source": [
    "# Libraries"
   ]
  },
  {
   "cell_type": "code",
   "execution_count": 2,
   "metadata": {},
   "outputs": [
    {
     "name": "stderr",
     "output_type": "stream",
     "text": [
      "Using TensorFlow backend.\n"
     ]
    }
   ],
   "source": [
    "import tensorflow as tf\n",
    "from tensorflow import keras\n",
    "import numpy as np\n",
    "import matplotlib.pyplot as plt\n",
    "import os\n",
    "import cv2\n",
    "import pandas as pd \n",
    "from tqdm import tqdm\n",
    "\n",
    "from sklearn.metrics import roc_curve, auc, roc_auc_score\n",
    "from sklearn.model_selection import train_test_split\n",
    "\n",
    "from keras.datasets import cifar10\n",
    "from keras.preprocessing.image import ImageDataGenerator\n",
    "from keras.models import Sequential\n",
    "from keras.layers import Dense, Dropout, Activation, Flatten\n",
    "from keras.layers import Conv2D, MaxPooling2D\n",
    "from keras.preprocessing.image import ImageDataGenerator\n",
    "\n",
    "#VGG16\n",
    "from keras.applications.vgg16 import VGG16\n",
    "from keras.preprocessing import image\n",
    "from keras.applications.vgg16 import preprocess_input\n",
    "\n",
    "from cfg import Config\n",
    "import pickle\n",
    "\n",
    "#from tensorflow.keras.layers import Conv2D, Flatten, MaxPooling2D, Dropout, BatchNormalization\n",
    "from keras.preprocessing.image import ImageDataGenerator\n",
    "from keras.applications.nasnet import NASNetMobile\n",
    "from keras.applications.xception import Xception\n",
    "from keras.utils.vis_utils import plot_model\n",
    "from keras.layers import Dropout, Flatten, Dense, GlobalAveragePooling2D, Average, Input, Concatenate, GlobalMaxPooling2D\n",
    "from keras.models import Model\n",
    "from keras.callbacks import CSVLogger, ModelCheckpoint, EarlyStopping\n",
    "from keras.optimizers import Adam"
   ]
  },
  {
   "cell_type": "markdown",
   "metadata": {},
   "source": [
    "## Data Directory"
   ]
  },
  {
   "cell_type": "code",
   "execution_count": 5,
   "metadata": {},
   "outputs": [],
   "source": [
    "input_dir = '/Users/ACER/Desktop/hpc_dataset/'\n",
    "cropped_train_dir = input_dir + 'cropped_train/'\n",
    "cropped_val_dir = input_dir + 'cropped_val/'"
   ]
  },
  {
   "cell_type": "markdown",
   "metadata": {},
   "source": [
    "## Data Loading and Augmentation"
   ]
  },
  {
   "cell_type": "code",
   "execution_count": 6,
   "metadata": {},
   "outputs": [],
   "source": [
    "# Data augmentation\n",
    "training_data_generator = ImageDataGenerator(rescale=1./255,\n",
    "                                             horizontal_flip=True,\n",
    "                                             vertical_flip=True,\n",
    "                                             rotation_range=180,\n",
    "                                             zoom_range=0.2, \n",
    "                                             width_shift_range=0.2,\n",
    "                                             height_shift_range=0.2,\n",
    "                                             shear_range=0.1,\n",
    "                                             channel_shift_range=0.2)"
   ]
  },
  {
   "cell_type": "code",
   "execution_count": 7,
   "metadata": {},
   "outputs": [],
   "source": [
    "# Data augmentation\n",
    "val_data_generator = ImageDataGenerator(rescale=1./255)"
   ]
  },
  {
   "cell_type": "code",
   "execution_count": 8,
   "metadata": {},
   "outputs": [
    {
     "name": "stdout",
     "output_type": "stream",
     "text": [
      "Found 176020 images belonging to 2 classes.\n"
     ]
    }
   ],
   "source": [
    "# Data generation\n",
    "training_generator = training_data_generator.flow_from_directory(cropped_train_dir,\n",
    "                                                                 target_size=(48,48),\n",
    "                                                                 batch_size=32,\n",
    "                                                                 class_mode='binary')"
   ]
  },
  {
   "cell_type": "code",
   "execution_count": 9,
   "metadata": {},
   "outputs": [
    {
     "name": "stdout",
     "output_type": "stream",
     "text": [
      "Found 44005 images belonging to 2 classes.\n"
     ]
    }
   ],
   "source": [
    "validation_generator = val_data_generator.flow_from_directory(cropped_val_dir,\n",
    "                                                              target_size=(48,48),\n",
    "                                                              batch_size=32,\n",
    "                                                              class_mode='binary')"
   ]
  },
  {
   "cell_type": "markdown",
   "metadata": {},
   "source": [
    "## Model Building and Training"
   ]
  },
  {
   "cell_type": "code",
   "execution_count": 3,
   "metadata": {},
   "outputs": [],
   "source": [
    "## Current most promising. No augmentation. VGG 16 all-do(0.5)-dense512-do(0.5)-dense1. Learning rate:10-4\n",
    "\n",
    "def VGG16_model():\n",
    "    base_model = VGG16(include_top=False,\n",
    "                       input_shape = (48,48,3),\n",
    "                       weights = 'imagenet')\n",
    "\n",
    "    #for layer in base_model.layers[:-10]:\n",
    "    #    layer.trainable = False\n",
    "    \n",
    "    #for layer in base_model.layers:\n",
    "    #    print(layer,layer.trainable)\n",
    "    \n",
    "    model = Sequential()\n",
    "    model.add(base_model)\n",
    "    \n",
    "    model.add(Flatten())\n",
    "    model.add(Dropout(0.5))\n",
    "    model.add(Dense(1,activation='sigmoid'))\n",
    "    #model.layers[0].trainable=False\n",
    "    model.summary()\n",
    "    model.compile(loss='binary_crossentropy', \n",
    "                  optimizer=Adam(lr=0.0001, decay=0.00001),\n",
    "                  metrics=['acc'] )\n",
    "    return model"
   ]
  },
  {
   "cell_type": "code",
   "execution_count": 4,
   "metadata": {},
   "outputs": [
    {
     "name": "stdout",
     "output_type": "stream",
     "text": [
      "Model: \"sequential_1\"\n",
      "_________________________________________________________________\n",
      "Layer (type)                 Output Shape              Param #   \n",
      "=================================================================\n",
      "vgg16 (Model)                (None, 1, 1, 512)         14714688  \n",
      "_________________________________________________________________\n",
      "flatten_1 (Flatten)          (None, 512)               0         \n",
      "_________________________________________________________________\n",
      "dropout_1 (Dropout)          (None, 512)               0         \n",
      "_________________________________________________________________\n",
      "dense_1 (Dense)              (None, 1)                 513       \n",
      "=================================================================\n",
      "Total params: 14,715,201\n",
      "Trainable params: 14,715,201\n",
      "Non-trainable params: 0\n",
      "_________________________________________________________________\n"
     ]
    }
   ],
   "source": [
    "model = VGG16_model()"
   ]
  },
  {
   "cell_type": "code",
   "execution_count": 10,
   "metadata": {},
   "outputs": [
    {
     "name": "stdout",
     "output_type": "stream",
     "text": [
      "Epoch 1/10\n",
      "5501/5501 [==============================] - 1808s 329ms/step - loss: 0.4107 - acc: 0.8219 - val_loss: 1.2680 - val_acc: 0.8611\n",
      "\n",
      "Epoch 00001: val_acc improved from -inf to 0.86108, saving model to models/model_v19.h5\n",
      "Epoch 2/10\n",
      "5501/5501 [==============================] - 1744s 317ms/step - loss: 0.3292 - acc: 0.8622 - val_loss: 0.9425 - val_acc: 0.8878\n",
      "\n",
      "Epoch 00002: val_acc improved from 0.86108 to 0.88781, saving model to models/model_v19.h5\n",
      "Epoch 3/10\n",
      "5501/5501 [==============================] - 1707s 310ms/step - loss: 0.3046 - acc: 0.8740 - val_loss: 0.3364 - val_acc: 0.8926\n",
      "\n",
      "Epoch 00003: val_acc improved from 0.88781 to 0.89258, saving model to models/model_v19.h5\n",
      "Epoch 4/10\n",
      "5501/5501 [==============================] - 1745s 317ms/step - loss: 0.2910 - acc: 0.8803 - val_loss: 0.0437 - val_acc: 0.8749\n",
      "\n",
      "Epoch 00004: val_acc did not improve from 0.89258\n",
      "Epoch 5/10\n",
      "5501/5501 [==============================] - 1708s 311ms/step - loss: 0.2770 - acc: 0.8869 - val_loss: 0.2472 - val_acc: 0.8075\n",
      "\n",
      "Epoch 00005: val_acc did not improve from 0.89258\n",
      "Epoch 6/10\n",
      "5501/5501 [==============================] - 1758s 319ms/step - loss: 0.2673 - acc: 0.8908 - val_loss: 1.1821 - val_acc: 0.8898\n",
      "\n",
      "Epoch 00006: val_acc did not improve from 0.89258\n",
      "Epoch 7/10\n",
      "5501/5501 [==============================] - 1705s 310ms/step - loss: 0.2619 - acc: 0.8934 - val_loss: 0.0105 - val_acc: 0.8620\n",
      "\n",
      "Epoch 00007: val_acc did not improve from 0.89258\n",
      "Epoch 8/10\n",
      "5501/5501 [==============================] - 1729s 314ms/step - loss: 0.2556 - acc: 0.8965 - val_loss: 0.2950 - val_acc: 0.8897\n",
      "\n",
      "Epoch 00008: val_acc did not improve from 0.89258\n",
      "Epoch 9/10\n",
      "5501/5501 [==============================] - 1723s 313ms/step - loss: 0.2486 - acc: 0.8991 - val_loss: 0.0978 - val_acc: 0.8875\n",
      "\n",
      "Epoch 00009: val_acc did not improve from 0.89258\n",
      "Epoch 10/10\n",
      "5501/5501 [==============================] - 1831s 333ms/step - loss: 0.2417 - acc: 0.9027 - val_loss: 0.0431 - val_acc: 0.9066\n",
      "\n",
      "Epoch 00010: val_acc improved from 0.89258 to 0.90656, saving model to models/model_v19.h5\n"
     ]
    }
   ],
   "source": [
    "model_file = \"models/model_v19.h5\"\n",
    "\n",
    "checkpoint = ModelCheckpoint(model_file, monitor='val_acc',\n",
    "                             verbose=1, save_best_only=True,\n",
    "                             mode='max', save_weights_only=False, \n",
    "                             period=1)\n",
    "\n",
    "earlystop = EarlyStopping(monitor='val_loss', min_delta=0.001,\n",
    "                          patience=10, verbose=1, \n",
    "                          mode='auto')\n",
    "\n",
    "history = model.fit_generator(training_generator,\n",
    "                              steps_per_epoch=len(training_generator), \n",
    "                              validation_data=validation_generator,\n",
    "                              validation_steps=len(validation_generator),\n",
    "                              epochs=10,\n",
    "                              verbose=1,\n",
    "                              callbacks=[checkpoint])\n",
    "\n",
    "# Save the best model\n",
    "model.save(model_file)"
   ]
  },
  {
   "cell_type": "markdown",
   "metadata": {},
   "source": [
    "## Training Plot"
   ]
  },
  {
   "cell_type": "code",
   "execution_count": 18,
   "metadata": {},
   "outputs": [
    {
     "data": {
      "text/plain": [
       "Text(0, 0.5, 'loss')"
      ]
     },
     "execution_count": 18,
     "metadata": {},
     "output_type": "execute_result"
    },
    {
     "data": {
      "image/png": "[encoded data removed]",
      "text/plain": [
       "<Figure size 432x288 with 1 Axes>"
      ]
     },
     "metadata": {
      "needs_background": "light"
     },
     "output_type": "display_data"
    }
   ],
   "source": [
    "plt.plot(history.history['loss'], color='blue', label=\"training_loss\")\n",
    "plt.plot(history.history['val_loss'], color='red', label=\"validation_loss\")\n",
    "plt.legend(loc='best')\n",
    "plt.title('Training Loss and Validation Loss')\n",
    "plt.xlabel('epoch')\n",
    "plt.ylabel('loss')"
   ]
  },
  {
   "cell_type": "code",
   "execution_count": 19,
   "metadata": {},
   "outputs": [
    {
     "data": {
      "text/plain": [
       "Text(0, 0.5, 'accuracy')"
      ]
     },
     "execution_count": 19,
     "metadata": {},
     "output_type": "execute_result"
    },
    {
     "data": {
      "image/png": "[encoded data removed]",
      "text/plain": [
       "<Figure size 432x288 with 1 Axes>"
      ]
     },
     "metadata": {
      "needs_background": "light"
     },
     "output_type": "display_data"
    }
   ],
   "source": [
    "plt.plot(history.history['acc'], color='blue', label=\"training_accuracy\")\n",
    "plt.plot(history.history['val_acc'], color='red',label=\"validation_accuracy\")\n",
    "plt.legend(loc='best')\n",
    "plt.title('Training Accuracy and Validation Accuracy')\n",
    "plt.xlabel('epoch')\n",
    "plt.ylabel('accuracy')"
   ]
  },
  {
   "cell_type": "code",
   "execution_count": 13,
   "metadata": {},
   "outputs": [
    {
     "name": "stdout",
     "output_type": "stream",
     "text": [
      "1376/1376 [==============================] - 111s 81ms/step\n"
     ]
    },
    {
     "data": {
      "text/plain": [
       "<matplotlib.legend.Legend at 0x159d93ec988>"
      ]
     },
     "execution_count": 13,
     "metadata": {},
     "output_type": "execute_result"
    },
    {
     "data": {
      "image/png": "[encoded data removed]",
      "text/plain": [
       "<Figure size 432x288 with 1 Axes>"
      ]
     },
     "metadata": {
      "needs_background": "light"
     },
     "output_type": "display_data"
    }
   ],
   "source": [
    "# ROC testing plot\n",
    "predictions = model.predict_generator(validation_generator, steps=len(validation_generator), verbose=1)\n",
    "false_positive_rate, true_positive_rate, threshold = roc_curve(validation_generator.classes, predictions)\n",
    "area_under_curve = auc(false_positive_rate, true_positive_rate)\n",
    "\n",
    "plt.plot([0, 1], [0, 1], 'k--')\n",
    "plt.plot(false_positive_rate, true_positive_rate, label='AUC = {:.3f}'.format(area_under_curve))\n",
    "plt.xlabel('False positive rate')\n",
    "plt.ylabel('True positive rate')\n",
    "plt.title('ROC curve')\n",
    "plt.legend(loc='best')"
   ]
  },
  {
   "cell_type": "markdown",
   "metadata": {},
   "source": [
    "## Model Testing"
   ]
  },
  {
   "cell_type": "code",
   "execution_count": null,
   "metadata": {},
   "outputs": [],
   "source": [
    "from keras.models import load_model\n",
    "model = load_model(model_file)\n",
    "\n",
    "from skimage.io import imread\n",
    "from glob import glob\n",
    "from tqdm import tqdm\n",
    "\n",
    "testing_batch_size = 1000\n",
    "\n",
    "testing_files = glob(os.path.join('/Users/ACER/Desktop/hpc_dataset/cropped_test/','*.tif'))\n",
    "submission = pd.DataFrame()\n",
    "for index in tqdm(range(0, len(testing_files), testing_batch_size)):\n",
    "    data_frame = pd.DataFrame({'path': testing_files[index:index+testing_batch_size]})\n",
    "    data_frame['id'] = data_frame.path.map(lambda x: x.split('/')[5].split(\".\")[0])\n",
    "    data_frame['image'] = data_frame['path'].map(imread)\n",
    "    images = np.stack(data_frame.image, axis=0)\n",
    "    predicted_labels = [model.predict(np.expand_dims(image/255.0, axis=0))[0][0] for image in images]\n",
    "    predictions = np.array(predicted_labels)\n",
    "    data_frame['label'] = predictions\n",
    "    submission = pd.concat([submission, data_frame[[\"id\", \"label\"]]])\n",
    "submission.to_csv(\"submission_ar_20.csv\", index=False, header=True)"
   ]
  },
  {
   "cell_type": "code",
   "execution_count": null,
   "metadata": {},
   "outputs": [],
   "source": []
  }
 ],
 "metadata": {
  "kernelspec": {
   "display_name": "gputest",
   "language": "python",
   "name": "gputest"
  },
  "language_info": {
   "codemirror_mode": {
    "name": "ipython",
    "version": 3
   },
   "file_extension": ".py",
   "mimetype": "text/x-python",
   "name": "python",
   "nbconvert_exporter": "python",
   "pygments_lexer": "ipython3",
   "version": "3.7.7"
  }
 },
 "nbformat": 4,
 "nbformat_minor": 4
}
